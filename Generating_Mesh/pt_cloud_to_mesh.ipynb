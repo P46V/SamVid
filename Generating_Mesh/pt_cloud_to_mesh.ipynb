{
 "cells": [
  {
   "cell_type": "code",
   "execution_count": 1,
   "metadata": {},
   "outputs": [],
   "source": [
    "import open3d as o3d"
   ]
  },
  {
   "cell_type": "code",
   "execution_count": 2,
   "metadata": {},
   "outputs": [],
   "source": [
    "import numpy as np"
   ]
  },
  {
   "cell_type": "code",
   "execution_count": 7,
   "metadata": {},
   "outputs": [],
   "source": [
    "input_path=\"/home/akarsh/Desktop/\"\n",
    "output_path=\"/home/akarsh/Desktop/\"\n",
    "#here data type is ply.\n",
    "dataname=\"merged2.ply\""
   ]
  },
  {
   "cell_type": "code",
   "execution_count": 8,
   "metadata": {},
   "outputs": [],
   "source": [
    "#reading ply file as text to extract points,normals,colors these data starts after 15th row\n",
    "#so skipping first 15 rows\n",
    "point_cloud= np.loadtxt(input_path+dataname,skiprows=15)\n",
    "pcd = o3d.io.read_point_cloud(input_path+dataname)\n",
    "#points are in column 0 to 2\n",
    "#normals are in column 3 to 5\n",
    "#colors are in column 6 to 8\n",
    "pcd.points = o3d.utility.Vector3dVector(point_cloud[:,:3])\n",
    "pcd.normals = o3d.utility.Vector3dVector(point_cloud[:,3:6])\n",
    "pcd.colors = o3d.utility.Vector3dVector(point_cloud[:,6:9]/255)\n",
    "#mesh = o3d.io.read_triangle_mesh(input_path+dataname)\n",
    "o3d.visualization.draw_geometries([pcd])\n",
    "#voxel_down_pcd = pcd.voxel_down_sample(voxel_size=0.02)\n",
    "#print(pcd)"
   ]
  },
  {
   "cell_type": "code",
   "execution_count": 9,
   "metadata": {},
   "outputs": [],
   "source": [
    "#running Poisson’ reconstruction algorithm on point cloud data\n",
    "with o3d.utility.VerbosityContextManager(o3d.utility.VerbosityLevel.Debug) as cm:\n",
    "    mesh, densities = o3d.geometry.TriangleMesh.create_from_point_cloud_poisson(pcd, depth=9)"
   ]
  },
  {
   "cell_type": "code",
   "execution_count": 13,
   "metadata": {},
   "outputs": [],
   "source": [
    "#To get a clean result, it is often necessary to add a cropping step\n",
    "#compute the initial bounding-box containing the raw point cloud\n",
    "#filter all surfaces from the mesh outside the bounding-box\n",
    "bbox = pcd.get_axis_aligned_bounding_box()\n",
    "p_mesh_crop = mesh.crop(bbox)"
   ]
  },
  {
   "cell_type": "code",
   "execution_count": null,
   "metadata": {},
   "outputs": [],
   "source": [
    "print(\"Painting the mesh\")\n",
    "print(\"Try to render a mesh with normals (exist: \" +\n",
    "        str(p_mesh_crop.has_vertex_normals()) + \") and colors (exist: \" +\n",
    "        str(p_mesh_crop.has_vertex_colors()) + \")\")\n",
    "print(p_mesh_crop)\n",
    "o3d.visualization.draw_geometries([p_mesh_crop])"
   ]
  },
  {
   "cell_type": "code",
   "execution_count": 15,
   "metadata": {},
   "outputs": [
    {
     "data": {
      "text/plain": [
       "True"
      ]
     },
     "execution_count": 15,
     "metadata": {},
     "output_type": "execute_result"
    }
   ],
   "source": [
    "#exporting data as triangular 3d mesh\n",
    "o3d.io.write_triangle_mesh(output_path+\"p_mesh_c.ply\", p_mesh_crop)"
   ]
  },
  {
   "cell_type": "code",
   "execution_count": null,
   "metadata": {},
   "outputs": [],
   "source": []
  }
 ],
 "metadata": {
  "kernelspec": {
   "display_name": "Python 3",
   "language": "python",
   "name": "python3"
  },
  "language_info": {
   "codemirror_mode": {
    "name": "ipython",
    "version": 3
   },
   "file_extension": ".py",
   "mimetype": "text/x-python",
   "name": "python",
   "nbconvert_exporter": "python",
   "pygments_lexer": "ipython3",
   "version": "3.6.10"
  }
 },
 "nbformat": 4,
 "nbformat_minor": 4
}
